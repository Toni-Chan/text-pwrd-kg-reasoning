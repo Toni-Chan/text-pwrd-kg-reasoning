{
 "cells": [
  {
   "cell_type": "code",
   "execution_count": 1,
   "metadata": {},
   "outputs": [],
   "source": [
    "import numpy as np\n",
    "import bcolz\n",
    "import pickle"
   ]
  },
  {
   "cell_type": "code",
   "execution_count": null,
   "metadata": {},
   "outputs": [],
   "source": []
  },
  {
   "cell_type": "code",
   "execution_count": 34,
   "metadata": {},
   "outputs": [
    {
     "name": "stdout",
     "output_type": "stream",
     "text": [
      "400001 [-0.071549   0.093459   0.023738  ... -0.0057218  0.16466   -0.39074  ] (80000201,)\n"
     ]
    }
   ],
   "source": [
    "glove_path = '/home/ubuntu/text-pwrd-kg-reasoning/'\n",
    "vectors = bcolz.carray(np.zeros(1), rootdir=f'{glove_path}/6B.200.dat', mode='w')\n",
    "words = []\n",
    "word2idx = {}\n",
    "idx = 0\n",
    "with open(f'{glove_path}/glove.6B.200d.txt', 'rb') as f:\n",
    "    for l in f:\n",
    "        line = l.decode().split()\n",
    "        word = line[0]\n",
    "        words.append(word)\n",
    "        word2idx[word] = idx\n",
    "        idx += 1\n",
    "        vect = np.array(line[1:]).astype(np.float)\n",
    "        vectors.append(vect)\n",
    "print(idx, vectors[1:], vectors.shape)"
   ]
  },
  {
   "cell_type": "code",
   "execution_count": 14,
   "metadata": {},
   "outputs": [],
   "source": [
    "with open(f'{glove_path}/glove.6B.200d.txt', 'rb') as f:\n",
    "    for l in f:\n",
    "        line = l.decode().split()\n",
    "        the  = line[0]\n",
    "        the_encoding = line[1:]\n",
    "        \n",
    "the_encoding = np.array(the_encoding)"
   ]
  },
  {
   "cell_type": "code",
   "execution_count": 35,
   "metadata": {},
   "outputs": [],
   "source": [
    "vectors = bcolz.carray(vectors[1:].reshape((400001, 200)), rootdir=f'{glove_path}/6B.200.dat', mode='w')\n",
    "vectors.flush()\n",
    "pickle.dump(words, open(f'{glove_path}/6B.200_words.pkl', 'wb'))\n",
    "pickle.dump(word2idx, open(f'{glove_path}/6B.200_idx.pkl', 'wb'))"
   ]
  },
  {
   "cell_type": "code",
   "execution_count": 36,
   "metadata": {},
   "outputs": [
    {
     "data": {
      "text/plain": [
       "(400001, 200)"
      ]
     },
     "execution_count": 36,
     "metadata": {},
     "output_type": "execute_result"
    }
   ],
   "source": [
    "vectors.shape"
   ]
  },
  {
   "cell_type": "code",
   "execution_count": null,
   "metadata": {},
   "outputs": [],
   "source": [
    "with open(f'{glove_path}/glove.6B.200d.txt', 'rb') as f:\n",
    "    for l in f:\n",
    "        line = l.decode().split()\n",
    "        the  = line[0]\n",
    "        the_encoding = line[1:]\n",
    "        \n",
    "the_encoding = np.array(the_encoding)"
   ]
  },
  {
   "cell_type": "code",
   "execution_count": 10,
   "metadata": {},
   "outputs": [],
   "source": [
    "mid2name = {}\n",
    "with open(\"mid2name.tsv\", 'r') as f:\n",
    "    while True:\n",
    "        line = f.readline().split()\n",
    "        if not line or len(line) == 0:\n",
    "            break\n",
    "        mid2name[line[0]] = line[1:]"
   ]
  },
  {
   "cell_type": "code",
   "execution_count": 12,
   "metadata": {},
   "outputs": [],
   "source": [
    "import json\n",
    "with open('./entity2wikidata.json') as f:\n",
    "    data = json.load(f)\n",
    "entity2name = {}\n",
    "for k, v in data.items():\n",
    "    wrd = v['label']\n",
    "    entity2name[k] = wrd\n",
    "with open('entity2name.json', 'w') as json_file:\n",
    "    json.dump(entity2name, json_file)"
   ]
  },
  {
   "cell_type": "code",
   "execution_count": 22,
   "metadata": {},
   "outputs": [
    {
     "data": {
      "text/plain": [
       "14515"
      ]
     },
     "execution_count": 22,
     "metadata": {},
     "output_type": "execute_result"
    }
   ],
   "source": [
    "len(entity2name)"
   ]
  },
  {
   "cell_type": "code",
   "execution_count": 23,
   "metadata": {},
   "outputs": [
    {
     "data": {
      "text/plain": [
       "3306418"
      ]
     },
     "execution_count": 23,
     "metadata": {},
     "output_type": "execute_result"
    }
   ],
   "source": [
    "len(mid2name)"
   ]
  },
  {
   "cell_type": "code",
   "execution_count": null,
   "metadata": {},
   "outputs": [
    {
     "name": "stdout",
     "output_type": "stream",
     "text": [
      "not found 14541\n",
      "not found /m/08mbj5d\n",
      "not found /m/0gtsx8c\n",
      "not found /m/02r0csl\n",
      "not found /m/02vxq9m\n",
      "not found /m/0f_nbyh\n",
      "not found /m/0gx1bnj\n",
      "not found /m/0gtv7pk\n",
      "not found /m/0h1cdwq\n",
      "not found /m/02vx4\n",
      "not found /m/0djb3vw\n",
      "not found /m/0gx9rvq\n",
      "not found /m/087wc7n\n",
      "not found /m/02kxbwx\n",
      "not found /m/0hr3c8y\n",
      "not found /m/0fq9zdn\n",
      "not found /m/0h3xztt\n",
      "not found /m/0c0nhgv\n",
      "not found /m/05148p4\n",
      "not found /m/0ch6mp2\n",
      "not found /m/05mt_q\n",
      "not found /m/01r32\n",
      "not found /m/0hr6lkl\n",
      "not found /m/0gtvrv3\n",
      "not found /m/03qnvdl\n",
      "not found /m/0l15bq\n",
      "not found /m/021yc7p\n",
      "not found /m/0gxtknx\n",
      "not found /m/09rp4r_\n",
      "not found /m/0bq8tmw\n",
      "not found /m/0lp_cd3\n",
      "not found /m/03xsby\n",
      "not found /m/04ktcgn\n",
      "not found /m/0gd0c7x\n",
      "not found /m/0h_cssd\n",
      "not found /m/0gvrws1\n",
      "not found /m/0gydcp7\n",
      "not found /m/0dq630k\n",
      "not found /m/0gvstc3\n",
      "not found /m/0jt5zcn\n",
      "not found /m/0fpv_3_\n",
      "not found /m/0jt90f5\n",
      "not found /m/0jzphpx\n",
      "not found /m/0hndn2q\n",
      "not found /m/0gz6b6g\n",
      "not found /m/0fpmrm3\n",
      "not found /m/0l1589\n",
      "not found /m/0jt3qpk\n",
      "not found /m/0879bpq\n",
      "not found /m/0hzc9wc\n",
      "not found /m/08wr3kg\n",
      "not found /m/0b79gfg\n",
      "not found /m/01x15dc\n",
      "not found /m/0j_sncb\n",
      "not found /m/0j43swk\n",
      "not found /m/0gtsxr4\n",
      "not found /m/0gffmn8\n",
      "not found /m/0gyfp9c\n",
      "not found /m/0gvs1kt\n",
      "not found /m/04pyp5\n",
      "not found /m/07ym6ss\n",
      "not found /m/09g7vfw\n",
      "not found /m/0gtvpkw\n",
      "not found /m/02kxbx3\n",
      "not found /m/094wz7q\n",
      "not found /m/0gh65c5\n",
      "not found /m/0hnf5vm\n",
      "not found /m/05z96\n",
      "not found /m/092ys_y\n",
      "not found /m/0gyh2wm\n",
      "not found /m/0gy2y8r\n",
      "not found /m/0hqw8p_\n",
      "not found /m/0h_9252\n",
      "not found /m/0h53c_5\n",
      "not found /m/062zjtt\n",
      "not found /m/0gtxj2q\n",
      "not found /m/0bpm4yw\n"
     ]
    }
   ],
   "source": [
    "with open(\"/home/ubuntu/text-pwrd-kg-reasoning/OpenKE/benchmarks/FB15K237/entity2id.txt\") as f:\n",
    "    while True:\n",
    "        line = f.readline().split()\n",
    "        if not line:\n",
    "            break\n",
    "        entity = line[0]\n",
    "        if entity not in set(mid2name.keys()):\n",
    "            print(\"not found\", entity)"
   ]
  },
  {
   "cell_type": "code",
   "execution_count": null,
   "metadata": {},
   "outputs": [],
   "source": []
  }
 ],
 "metadata": {
  "kernelspec": {
   "display_name": "Environment (conda_pytorch_p36)",
   "language": "python",
   "name": "conda_pytorch_p36"
  },
  "language_info": {
   "codemirror_mode": {
    "name": "ipython",
    "version": 3
   },
   "file_extension": ".py",
   "mimetype": "text/x-python",
   "name": "python",
   "nbconvert_exporter": "python",
   "pygments_lexer": "ipython3",
   "version": "3.6.5"
  }
 },
 "nbformat": 4,
 "nbformat_minor": 2
}

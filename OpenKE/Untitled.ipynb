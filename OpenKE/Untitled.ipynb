{
 "cells": [
  {
   "cell_type": "code",
   "execution_count": 1,
   "metadata": {},
   "outputs": [],
   "source": [
    "import pickle\n",
    "import numpy as np\n",
    "import bcolz\n",
    "import openke\n",
    "from openke.config import Trainer, Tester\n",
    "from openke.module.model import TransE\n",
    "from openke.module.loss import MarginLoss\n",
    "from openke.module.strategy import NegativeSampling\n",
    "from openke.data import TrainDataLoader, TestDataLoader"
   ]
  },
  {
   "cell_type": "code",
   "execution_count": 3,
   "metadata": {},
   "outputs": [],
   "source": [
    "# dataloader for training\n",
    "train_dataloader = TrainDataLoader(\n",
    "\tin_path = \"./benchmarks/FB15K237/\",\n",
    "\tnbatches = 100,\n",
    "\tthreads = 8,\n",
    "\tsampling_mode = \"normal\",\n",
    "\tbern_flag = 1,\n",
    "\tfilter_flag = 1,\n",
    "\tneg_ent = 25,\n",
    "\tneg_rel = 0)\n",
    "\n",
    "# dataloader for test\n",
    "test_dataloader = TestDataLoader(\"./benchmarks/FB15K237/\", \"link\")\n",
    "#load pretrained glove dictionary\n",
    "glove_path = \"/home/ubuntu/text-pwrd-kg-reasoning/data/\"\n",
    "vectors = bcolz.open(f'{glove_path}/6B.200.dat')[:]\n",
    "words = pickle.load(open(f'{glove_path}/6B.200_words.pkl', 'rb'))\n",
    "word2idx = pickle.load(open(f'{glove_path}/6B.200_idx.pkl', 'rb'))\n",
    "# wrd2embedding\n",
    "glove = {w: vectors[word2idx[w]] for w in words}\n",
    "entity2name = {}\n",
    "\n",
    "with open(f'{glove_path}/mid2name.tsv', 'r') as f:\n",
    "\tline = f.readline().split()\n",
    "\twhile line:\n",
    "\t\tentity2name[line[0]] = line[1:]\n",
    "\t\tline = f.readline().split()\n",
    "\n",
    "id2entity = {}\n",
    "with open(\"/home/ubuntu/text-pwrd-kg-reasoning/OpenKE/benchmarks/FB15K237/entity2id.txt\") as f:\n",
    "\tline = f.readline().split()\n",
    "\tmax_id = int(line[0])\n",
    "\tline = f.readline().split()\n",
    "\twhile line:\n",
    "\t\tid2entity[int(line[1])] = line[0]\n",
    "\t\tline = f.readline().split()\n",
    "\n",
    "# create weight matrix for entity\n",
    "matrix_len = train_dataloader.get_ent_tot()\n",
    "weights_matrix = np.zeros((matrix_len, 200))\n",
    "not_found = 0\n",
    "\n",
    "for i in range(max_id):\n",
    "\tentity = id2entity[i]\n",
    "\ttry:\n",
    "\t\twords = entity2name[entity]\n",
    "\texcept KeyError:\n",
    "\t\twords = ['unk']\n",
    "\tfor wrd in words:\n",
    "\t\ttry:\n",
    "\t\t\tweights_matrix[i] += glove[wrd]\n",
    "\t\texcept KeyError:\n",
    "\t\t\tweights_matrix[i] += glove['unk']\n",
    "\t\t\tnot_found += 1"
   ]
  },
  {
   "cell_type": "code",
   "execution_count": 7,
   "metadata": {},
   "outputs": [
    {
     "data": {
      "text/plain": [
       "array([[ 0.15637 , -0.40361 , -0.29629 , ..., -0.82404 , -0.034287,\n",
       "        -0.16396 ],\n",
       "       [ 0.15637 , -0.40361 , -0.29629 , ..., -0.82404 , -0.034287,\n",
       "        -0.16396 ],\n",
       "       [-0.52733 , -0.476889,  0.20259 , ..., -0.858234,  0.348813,\n",
       "         0.24793 ],\n",
       "       ...,\n",
       "       [ 0.15637 , -0.40361 , -0.29629 , ..., -0.82404 , -0.034287,\n",
       "        -0.16396 ],\n",
       "       [ 0.15637 , -0.40361 , -0.29629 , ..., -0.82404 , -0.034287,\n",
       "        -0.16396 ],\n",
       "       [ 0.15637 , -0.40361 , -0.29629 , ..., -0.82404 , -0.034287,\n",
       "        -0.16396 ]])"
      ]
     },
     "execution_count": 7,
     "metadata": {},
     "output_type": "execute_result"
    }
   ],
   "source": [
    "weights_matrix"
   ]
  },
  {
   "cell_type": "code",
   "execution_count": 8,
   "metadata": {},
   "outputs": [
    {
     "data": {
      "text/plain": [
       "['U.S.-attempted', 'annexation', 'of', 'the', 'Dominican', 'Republic']"
      ]
     },
     "execution_count": 8,
     "metadata": {},
     "output_type": "execute_result"
    }
   ],
   "source": [
    "entity2name['/m/027rn']"
   ]
  },
  {
   "cell_type": "code",
   "execution_count": null,
   "metadata": {},
   "outputs": [],
   "source": []
  }
 ],
 "metadata": {
  "kernelspec": {
   "display_name": "Environment (conda_pytorch_p36)",
   "language": "python",
   "name": "conda_pytorch_p36"
  },
  "language_info": {
   "codemirror_mode": {
    "name": "ipython",
    "version": 3
   },
   "file_extension": ".py",
   "mimetype": "text/x-python",
   "name": "python",
   "nbconvert_exporter": "python",
   "pygments_lexer": "ipython3",
   "version": "3.6.5"
  }
 },
 "nbformat": 4,
 "nbformat_minor": 2
}

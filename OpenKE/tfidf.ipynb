{
 "cells": [
  {
   "cell_type": "code",
   "execution_count": 18,
   "metadata": {},
   "outputs": [],
   "source": [
    "import numpy as np\n",
    "import os\n",
    "import json\n",
    "from collections import defaultdict\n",
    "import nltk\n",
    "from nltk.corpus import stopwords\n",
    "from scipy.sparse import csr_matrix, save_npz\n",
    "from collections import Counter\n",
    "from tqdm.notebook import tqdm"
   ]
  },
  {
   "cell_type": "code",
   "execution_count": 2,
   "metadata": {},
   "outputs": [],
   "source": [
    "def load_entity2id(file_path):\n",
    "    entity2id_dict = {}\n",
    "    with open(file_path) as in_file:\n",
    "        for idx, line in enumerate(in_file):\n",
    "            if idx == 0:\n",
    "                num_words = int(line)\n",
    "            else:\n",
    "                entity, entity_id = line.split()\n",
    "                entity2id_dict[entity] = entity_id\n",
    "    return entity2id_dict"
   ]
  },
  {
   "cell_type": "code",
   "execution_count": 3,
   "metadata": {},
   "outputs": [],
   "source": [
    "def load_text(dir_path):\n",
    "    entity2tf = {}\n",
    "    text_files = os.listdir(dir_path)\n",
    "    for text_file in text_files:\n",
    "        with open(os.path.join(dir_path, text_file)) as text_in:\n",
    "            content = text_in.readline()\n",
    "            all_jsons = json.loads(content)\n",
    "            for json_line in all_jsons:\n",
    "                text = json_line[\"text\"]\n",
    "                entity_id = json_line[\"entity_id\"]\n",
    "                words = text.split()\n",
    "                length = len(words)\n",
    "                counter = Counter(words)\n",
    "                for word, raw_count in counter.items():\n",
    "                    counter[word] = raw_count / length\n",
    "                entity2tf[entity_id] = counter\n",
    "    return entity2tf"
   ]
  },
  {
   "cell_type": "code",
   "execution_count": 12,
   "metadata": {},
   "outputs": [],
   "source": [
    "def build_tfidf(entity2tf, entity2id):\n",
    "    word_num = 0\n",
    "    word2idx = {}\n",
    "    word_df = defaultdict(int)\n",
    "    for entity_id, word_dict in entity2tf.items():\n",
    "        for word in word_dict:\n",
    "            word_df[word] += 1\n",
    "            if word not in word2idx:\n",
    "                word2idx[word] = word_num\n",
    "                word_num += 1\n",
    "                  \n",
    "    row = []\n",
    "    col = []\n",
    "    data = []\n",
    "    doc_num = len(entity2tf)\n",
    "    for entity_id, word_dict in entity2tf.items():\n",
    "        entity_idx = entity2id[entity_id]\n",
    "        for word, tf in word_dict.items():\n",
    "            word_idx = word2idx[word]\n",
    "            df = word_df[word]\n",
    "            idf = np.log(doc_num / df)\n",
    "            tfidf = tf * idf\n",
    "        \n",
    "            row.append(entity_idx)\n",
    "            col.append(word_idx)\n",
    "            data.append(tfidf)\n",
    "            \n",
    "    entity_num = len(entity2id)\n",
    "    entity_tfidf = csr_matrix((data, (row, col)), shape=(entity_num, word_num))\n",
    "    return entity_tfidf, word2idx"
   ]
  },
  {
   "cell_type": "code",
   "execution_count": 30,
   "metadata": {},
   "outputs": [],
   "source": [
    "def compute_sim_matrix(train_pairs, entity_tfidf, entity2id):\n",
    "    entity_num = len(entity2id)\n",
    "    row = []\n",
    "    col = []\n",
    "    data = []\n",
    "    for i, j in tqdm(train_pairs):\n",
    "            row.append(i)\n",
    "            col.append(j)\n",
    "            sim = entity_tfidf.getrow(i).dot(entity_tfidf.getrow(j).transpose()).toarray().item()\n",
    "            data.append(sim)\n",
    "    sim_matrix = csr_matrix((data, (row, col)), shape=(entity_num, entity_num))\n",
    "    return sim_matrix"
   ]
  },
  {
   "cell_type": "code",
   "execution_count": 22,
   "metadata": {},
   "outputs": [],
   "source": [
    "def get_train_pairs(file_path):\n",
    "    pairs = []\n",
    "    with open(file_path) as file_in:\n",
    "        for idx, line in enumerate(file_in):\n",
    "            if idx == 0:\n",
    "                continue\n",
    "            else:\n",
    "                head, tail, _ = line.split()\n",
    "                pairs.append((head, tail))\n",
    "    return pairs"
   ]
  },
  {
   "cell_type": "code",
   "execution_count": 19,
   "metadata": {},
   "outputs": [],
   "source": [
    "base_path = '/home/ubuntu/text-pwrd-kg-reasoning/OpenKE/benchmarks/FB60K/'"
   ]
  },
  {
   "cell_type": "code",
   "execution_count": 6,
   "metadata": {},
   "outputs": [],
   "source": [
    "entity2id = load_entity2id(os.path.join(base_path, \"entity2id.txt\"))\n",
    "entity2tf = load_text(\"tokenized\")"
   ]
  },
  {
   "cell_type": "code",
   "execution_count": 13,
   "metadata": {},
   "outputs": [],
   "source": [
    "entity_tfidf, word2idx = build_tfidf(entity2tf, entity2id)"
   ]
  },
  {
   "cell_type": "code",
   "execution_count": 23,
   "metadata": {},
   "outputs": [],
   "source": [
    "train_pairs = get_train_pairs(os.path.join(base_path, \"train2id.txt\"))"
   ]
  },
  {
   "cell_type": "code",
   "execution_count": 31,
   "metadata": {},
   "outputs": [
    {
     "data": {
      "application/vnd.jupyter.widget-view+json": {
       "model_id": "8d263658478a4370a1b9254cfbb7fe62",
       "version_major": 2,
       "version_minor": 0
      },
      "text/plain": [
       "HBox(children=(FloatProgress(value=0.0, max=268280.0), HTML(value='')))"
      ]
     },
     "metadata": {},
     "output_type": "display_data"
    },
    {
     "name": "stdout",
     "output_type": "stream",
     "text": [
      "\n"
     ]
    }
   ],
   "source": [
    "sim_matrix = compute_sim_matrix(train_pairs, entity_tfidf, entity2id)\n",
    "save_npz(os.path.join(base_path, \"sparse_matrix.npz\"), sim_matrix)"
   ]
  },
  {
   "cell_type": "code",
   "execution_count": null,
   "metadata": {},
   "outputs": [],
   "source": []
  }
 ],
 "metadata": {
  "kernelspec": {
   "display_name": "Python 3",
   "language": "python",
   "name": "python3"
  },
  "language_info": {
   "codemirror_mode": {
    "name": "ipython",
    "version": 3
   },
   "file_extension": ".py",
   "mimetype": "text/x-python",
   "name": "python",
   "nbconvert_exporter": "python",
   "pygments_lexer": "ipython3",
   "version": "3.6.10"
  }
 },
 "nbformat": 4,
 "nbformat_minor": 2
}

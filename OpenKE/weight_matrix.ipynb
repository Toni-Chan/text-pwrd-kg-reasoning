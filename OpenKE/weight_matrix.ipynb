{
 "cells": [
  {
   "cell_type": "code",
   "execution_count": 40,
   "metadata": {},
   "outputs": [],
   "source": [
    "import pickle\n",
    "import numpy as np\n",
    "import bcolz\n",
    "import openke\n",
    "# from openke.config import Trainer, Tester\n",
    "# from openke.module.model import TransE\n",
    "# from openke.module.loss import MarginLoss\n",
    "# from openke.module.strategy import NegativeSampling\n",
    "from openke.data import TrainDataLoader, TestDataLoader\n",
    "import json\n",
    "import collections\n",
    "from scipy.sparse import csc_matrix\n",
    "import scipy"
   ]
  },
  {
   "cell_type": "code",
   "execution_count": 2,
   "metadata": {},
   "outputs": [],
   "source": [
    "train_dataloader = TrainDataLoader(\n",
    "\tin_path = \"./benchmarks/FB60K/\",\n",
    "\tnbatches = 100,\n",
    "\tthreads = 8,\n",
    "\tsampling_mode = \"normal\",\n",
    "\tbern_flag = 1,\n",
    "\tfilter_flag = 1,\n",
    "\tneg_ent = 25,\n",
    "\tneg_rel = 0)\n",
    "entity_size = train_dataloader.get_ent_tot()"
   ]
  },
  {
   "cell_type": "code",
   "execution_count": 3,
   "metadata": {},
   "outputs": [
    {
     "data": {
      "text/plain": [
       "69515"
      ]
     },
     "execution_count": 3,
     "metadata": {},
     "output_type": "execute_result"
    }
   ],
   "source": [
    "entity_size"
   ]
  },
  {
   "cell_type": "code",
   "execution_count": 4,
   "metadata": {},
   "outputs": [],
   "source": [
    "base_path = '/home/ubuntu/text-pwrd-kg-reasoning/OpenKE/benchmarks/FB60K/'\n",
    "entity2id = {}\n",
    "with open(\"/home/ubuntu/text-pwrd-kg-reasoning/OpenKE/benchmarks/FB60K/entity2id.txt\") as f:\n",
    "    line = f.readline().split()\n",
    "    max_id = int(line[0])\n",
    "    line = f.readline().split()\n",
    "    while line:\n",
    "        entity2id[line[0]] = int(line[1])\n",
    "        line = f.readline().split()"
   ]
  },
  {
   "cell_type": "code",
   "execution_count": 5,
   "metadata": {},
   "outputs": [],
   "source": [
    "with open(base_path + 'train.json') as f:\n",
    "    train_file = json.load(f) "
   ]
  },
  {
   "cell_type": "code",
   "execution_count": 59,
   "metadata": {},
   "outputs": [],
   "source": [
    "similarity_matrix = collections.Counter()\n",
    "for data in train_file:\n",
    "#     head_id = \"/\" + \"/\".join(data['head']['id'].split(\".\"))\n",
    "    head_entity =  data['head']['id']\n",
    "    tail_entity = data['tail']['id']\n",
    "    head_idx = entity2id[head_entity]\n",
    "    tail_idx = entity2id[tail_entity]\n",
    "    if head_idx > tail_idx:\n",
    "        tmp = head_idx\n",
    "        head_idx = tail_idx\n",
    "        tail_idx = tmp\n",
    "    fin_key = str(head_idx) + '_' + str(tail_idx)                                                                                      \n",
    "    similarity_matrix[fin_key] += 1\n",
    "similarity_matrix = dict(similarity_matrix)"
   ]
  },
  {
   "cell_type": "code",
   "execution_count": 63,
   "metadata": {},
   "outputs": [],
   "source": [
    "row = []\n",
    "col = []\n",
    "data = []\n",
    "for k,v in similarity_matrix.items():\n",
    "    k = k.split(\"_\")\n",
    "    i = int(k[0])\n",
    "    j = int(k[1])\n",
    "    row.append(i)\n",
    "    col.append(j)\n",
    "    data.append(v)"
   ]
  },
  {
   "cell_type": "code",
   "execution_count": 64,
   "metadata": {},
   "outputs": [],
   "source": [
    "sim_matrix = csc_matrix((data, (row, col)), shape=(entity_size, entity_size))"
   ]
  },
  {
   "cell_type": "code",
   "execution_count": 65,
   "metadata": {},
   "outputs": [],
   "source": [
    "scipy.sparse.save_npz(base_path + 'sparse_matrix.npz', sim_matrix)\n",
    "sparse_matrix = scipy.sparse.load_npz(base_path + 'sparse_matrix.npz')"
   ]
  },
  {
   "cell_type": "code",
   "execution_count": null,
   "metadata": {},
   "outputs": [],
   "source": []
  }
 ],
 "metadata": {
  "kernelspec": {
   "display_name": "Environment (conda_pytorch_p36)",
   "language": "python",
   "name": "conda_pytorch_p36"
  },
  "language_info": {
   "codemirror_mode": {
    "name": "ipython",
    "version": 3
   },
   "file_extension": ".py",
   "mimetype": "text/x-python",
   "name": "python",
   "nbconvert_exporter": "python",
   "pygments_lexer": "ipython3",
   "version": "3.6.5"
  }
 },
 "nbformat": 4,
 "nbformat_minor": 2
}
